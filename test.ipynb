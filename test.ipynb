{
 "cells": [
  {
   "cell_type": "markdown",
   "metadata": {},
   "source": [
    "This is a code for washing dishes, that accounts for user input and procedure."
   ]
  },
  {
   "cell_type": "markdown",
   "metadata": {},
   "source": [
    "Making use of Functions, If else statements, and While loop"
   ]
  },
  {
   "cell_type": "code",
   "execution_count": null,
   "metadata": {},
   "outputs": [],
   "source": [
    "#requirements\n",
    "def requirements():\n",
    "    a = \"liquid soap\"\n",
    "    b = \"dishes\"\n",
    "    c = \"sponge\"\n",
    "    print(f\"Requirements: {a}, {b}, {c}\")\n",
    "    return a, b, c\n",
    "#conditional proceed \n",
    "def proceed():\n",
    "    ask_user = (input(\"Complete requirements? Enter 1 = yes, 0 = no \")).strip()\n",
    "    while True:\n",
    "        if ask_user == \"1\":\n",
    "            print(\"You can now proceed! \")\n",
    "            return 1\n",
    "        else:\n",
    "            print(\"Gather the all requirements first!\")\n",
    "            break\n",
    "\n",
    "#instructions     \n",
    "def instructions(a, b, c):\n",
    "    print(\"\")\n",
    "    print(\"STEPS:\")\n",
    "    print(f\"1.) Go to kitchen sink with the {a}, {c} and {b}. \")\n",
    "    print(f\"2.) Open the sink and rinse the {b} with running water. \")\n",
    "    print(f\"3.) Soak the {c} with water. Open the {a} then pour a little bit onto the {c}. \")\n",
    "    print(f\"4.) Holding the {c} and {b} scrub the {b} in a circular motion with the {c}, make sure to scrub all of the {b}\")\n",
    "    print(f\"5.) Turn on the faucet, then rinse the {b} with water, and place them into the holding tray\")\n",
    "    print(f\"Congratulations you did it!\")\n",
    "\n",
    "#washing dishes\n",
    "def washing_dishes():\n",
    "    a, b, c = requirements()\n",
    "    if proceed():\n",
    "        instructions(a, b, c)\n",
    "    \n",
    "washing_dishes()"
   ]
  },
  {
   "cell_type": "markdown",
   "metadata": {},
   "source": [
    "This is another code for washing dishes, more on calculation for time"
   ]
  },
  {
   "cell_type": "code",
   "execution_count": null,
   "metadata": {},
   "outputs": [],
   "source": [
    "def washing_dishes():\n",
    "    while True:\n",
    "        ask_user = (input(\"Do you want to wash dishes? \")).strip().capitalize()\n",
    "        if ask_user != \"Yes\":\n",
    "            print(\"Alright, maybe next time!\")\n",
    "            break\n",
    "        else:\n",
    "            print(\"Alright let's start!\")\n",
    "        ask_dishes = float(input(\"How many dishes will you wash?\"))\n",
    "        if ask_dishes <= 0:\n",
    "            print(\"You don't need to wash dishes!\")\n",
    "            print(\"\")\n",
    "            continue\n",
    "        elif ask_dishes > 10:\n",
    "            print(\"That's too much, you need help!\")\n",
    "            print(\"\")\n",
    "            continue\n",
    "\n",
    "        print(f\"Alright! You have {ask_dishes}, this will take {ask_dishes * 30}, seconds \")\n",
    "        print(\"\")\n",
    "\n",
    "        again = input(\"Do you want to wash dishes again?\").strip().capitalize()\n",
    "        if again != \"Yes\":\n",
    "            print(\"Alright, maybe next time!\")\n",
    "            break\n",
    "\n",
    "        \n",
    "washing_dishes()\n",
    "    "
   ]
  },
  {
   "cell_type": "markdown",
   "metadata": {},
   "source": [
    "This is a quiz code, making use of functions, if statement and while loop"
   ]
  },
  {
   "cell_type": "code",
   "execution_count": null,
   "metadata": {},
   "outputs": [],
   "source": [
    "\n",
    "def questions():\n",
    "    question_4 = str(input(\"A system of communication within a culture that includes spoken and written words, body gestures, body positions, and eye contact.\")).strip().capitalize()\n",
    "    question_5 = str(input(\"A type of culture where communication is implicit, indirect, and follows internalized rules; common in Japan, China, Russia, and India.\")).strip().capitalize()\n",
    "    return question_4, question_5\n",
    "\n",
    "def quiz():\n",
    "    question_4, question_5 = questions()\n",
    "    while True:\n",
    "        if question_4 == \"Verbal communication\":\n",
    "            print(\"Correct!\")\n",
    "            break\n",
    "        else:\n",
    "            print(\"Try again!\")       \n",
    "    while True:\n",
    "\n",
    "        if question_5 == \"Low Context Culture\":\n",
    "            print(\"Correct\")\n",
    "            break\n",
    "        else:\n",
    "            print(\"Try again!\")\n",
    "\n",
    "quiz()"
   ]
  },
  {
   "cell_type": "code",
   "execution_count": null,
   "metadata": {},
   "outputs": [],
   "source": [
    "int = 0 \n",
    "while int <= 10:\n",
    "    print(int)\n",
    "    if int == 5:\n",
    "        break\n",
    "    int = int + 1"
   ]
  },
  {
   "cell_type": "markdown",
   "metadata": {},
   "source": [
    "This is a code for a TO DO LIST. making use of list, functions, conditional and while loop\n",
    "#FIRST ATTEMPT"
   ]
  },
  {
   "cell_type": "code",
   "execution_count": 44,
   "metadata": {},
   "outputs": [
    {
     "name": "stdout",
     "output_type": "stream",
     "text": [
      "Alright let's proceed!\n",
      "Here's your updated to do list: None\n",
      "Alright, maybe next time! \n"
     ]
    }
   ],
   "source": [
    "\n",
    "def storing_list():\n",
    "    to_do_list = [] \n",
    "    while True:\n",
    "        ask_user = input(\"Do you want to add an activity? \").strip().lower() #ask user for activity\n",
    "        if ask_user != \"yes\":   \n",
    "            print(\"Alright, maybe next time!\")\n",
    "            break\n",
    "        else:\n",
    "            print(\"Alright let's proceed!\")\n",
    "        \n",
    "        ask_user1 = str(input(\"What activity do you want to add?\")).strip().capitalize()\n",
    "        to_do_list_store = to_do_list.insert(0, ask_user1)\n",
    "        print(f\"Here's your updated to do list: {to_do_list_store}\")\n",
    "        \n",
    "        ask_user2 = str(input(\"Do you want to remove an activity?\")).strip().lower()\n",
    "        if ask_user2 != \"yes\":\n",
    "            print(\"Alright, maybe next time! \")\n",
    "            break\n",
    "        else:\n",
    "            ask_user2 = str(input(\"What activity do you want to remove? \")).strip().lower()\n",
    "            to_do_list_remove = to_do_list.remove(ask_user2)\n",
    "            print(f\"Here's your updated to do list: {to_do_list_remove}\")\n",
    "\n",
    "        ask_user3 = str(input(\"Do you want to delete the list? \")).strip().lower()\n",
    "        if ask_user3 != \"yes\":\n",
    "            print(\"Alright, maybe next time!\")\n",
    "            break\n",
    "        else:\n",
    "            to_do_list_clear = to_do_list.clear()\n",
    "            print(f\"Here's your updated to do list: {to_do_list_clear}\")\n",
    "\n",
    "        again = input(\"Do you want to add another activity?\").strip().lower()\n",
    "        if again != \"yes\":\n",
    "            print(\"Alright, maybe next time!\")\n",
    "            break\n",
    "        \n",
    "        \n",
    "storing_list()"
   ]
  },
  {
   "cell_type": "markdown",
   "metadata": {},
   "source": [
    "#Second trial TO DO LIST"
   ]
  },
  {
   "cell_type": "code",
   "execution_count": null,
   "metadata": {},
   "outputs": [
    {
     "ename": "TypeError",
     "evalue": "function() takes 0 positional arguments but 1 was given",
     "output_type": "error",
     "traceback": [
      "\u001b[0;31m---------------------------------------------------------------------------\u001b[0m",
      "\u001b[0;31mTypeError\u001b[0m                                 Traceback (most recent call last)",
      "Cell \u001b[0;32mIn[51], line 43\u001b[0m\n\u001b[1;32m     40\u001b[0m             \u001b[38;5;28mprint\u001b[39m(\u001b[38;5;124m\"\u001b[39m\u001b[38;5;124mInvalid response. Choose only from the following above. \u001b[39m\u001b[38;5;124m\"\u001b[39m)\n\u001b[1;32m     41\u001b[0m             \u001b[38;5;28mprint\u001b[39m(\u001b[38;5;124m\"\u001b[39m\u001b[38;5;124m\"\u001b[39m)\n\u001b[0;32m---> 43\u001b[0m \u001b[43mfunction\u001b[49m\u001b[43m(\u001b[49m\u001b[43mto_do_list\u001b[49m\u001b[43m)\u001b[49m\n\u001b[1;32m     44\u001b[0m to_do_list\n",
      "\u001b[0;31mTypeError\u001b[0m: function() takes 0 positional arguments but 1 was given"
     ]
    }
   ],
   "source": [
    "#defining function\n",
    "to_do_list = []\n",
    "def function():\n",
    "    #userinput\n",
    "    while True:\n",
    "        #storing to do list\n",
    "        ask_user = str(input(\"Do you want to ('add', 'change', 'view', 'remove', 'clear', 'exit') an activity to your to do list?\")).strip().lower()\n",
    "        if ask_user == \"add\":\n",
    "            list_add = input(\"What do you want to add? \").capitalize()\n",
    "            print(f\"You're adding {list_add}... \")\n",
    "            to_do_list.append(list_add)\n",
    "            print(f\"Here's your updated list {to_do_list}\")\n",
    "            print(\"\")\n",
    "        elif ask_user == \"change\":\n",
    "            list_update = (input(\"What do you want to change? \")).capitalize()\n",
    "            list_update1 = (input(\"What do you want to change it to? \")).capitalize()\n",
    "            index = to_do_list.index(list_update)\n",
    "            if list_update in to_do_list:\n",
    "                to_do_list[index] = list_update1\n",
    "                print(f\"You're changing {list_update} to {list_update1}\")\n",
    "                print(f\"Here's your updated list {to_do_list}\")\n",
    "                print(\"\")\n",
    "        elif ask_user == \"view\":\n",
    "            print(\"Viewing...\")\n",
    "            print(to_do_list)\n",
    "        elif ask_user == \"remove\":\n",
    "            list_remove = input(\"What do you want to remove? \").capitalize()\n",
    "            if list_remove in to_do_list:\n",
    "                to_do_list.remove(list_remove)\n",
    "                print(f\"You're removing {list_remove}... \")\n",
    "                print(f\"Here's your updated list: {to_do_list}\")\n",
    "                print(\"\")\n",
    "        elif ask_user == \"clear\":\n",
    "            to_do_list.clear()\n",
    "            print(\"Clearing...\")\n",
    "            print(f\"Here's your updated list {to_do_list}\")\n",
    "        elif ask_user == \"exit\":\n",
    "            break\n",
    "        else:\n",
    "            print(\"Invalid response. Choose only from the following above. \")\n",
    "            print(\"\")\n",
    "\n",
    "function()\n"
   ]
  }
 ],
 "metadata": {
  "kernelspec": {
   "display_name": "Python 3",
   "language": "python",
   "name": "python3"
  },
  "language_info": {
   "codemirror_mode": {
    "name": "ipython",
    "version": 3
   },
   "file_extension": ".py",
   "mimetype": "text/x-python",
   "name": "python",
   "nbconvert_exporter": "python",
   "pygments_lexer": "ipython3",
   "version": "3.13.2"
  }
 },
 "nbformat": 4,
 "nbformat_minor": 2
}
